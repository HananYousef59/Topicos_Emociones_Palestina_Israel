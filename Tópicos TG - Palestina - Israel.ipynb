{
 "cells": [
  {
   "cell_type": "code",
   "execution_count": 6,
   "id": "0d54f2f6",
   "metadata": {},
   "outputs": [],
   "source": [
    "!git config --global user.name \"Hanan Yousef\"\n",
    "!git config --global user.email \"hananyousef59@gmail.com\""
   ]
  },
  {
   "cell_type": "code",
   "execution_count": 7,
   "id": "9b503997",
   "metadata": {},
   "outputs": [
    {
     "name": "stdout",
     "output_type": "stream",
     "text": [
      "origin\thttps://github.com/HananYousef59/Topicos_Emociones_Palestina_Israel.git (fetch)\n",
      "origin\thttps://github.com/HananYousef59/Topicos_Emociones_Palestina_Israel.git (push)\n"
     ]
    }
   ],
   "source": [
    "!git remote -v"
   ]
  },
  {
   "cell_type": "code",
   "execution_count": 4,
   "id": "9af80f99",
   "metadata": {},
   "outputs": [],
   "source": [
    "!git remote set-url origin https://github.com/HananYousef59/Topicos_Emociones_Palestina_Israel.git\n"
   ]
  },
  {
   "cell_type": "code",
   "execution_count": 8,
   "id": "3dee82a7",
   "metadata": {},
   "outputs": [
    {
     "name": "stdout",
     "output_type": "stream",
     "text": [
      "✅ Entorno listo\n",
      "On branch main\n",
      "Your branch is ahead of 'origin/main' by 1 commit.\n",
      "  (use \"git push\" to publish your local commits)\n",
      "\n",
      "nothing to commit, working tree clean\n"
     ]
    },
    {
     "name": "stderr",
     "output_type": "stream",
     "text": [
      "fatal: could not read Username for 'https://github.com': No such device or address\n"
     ]
    }
   ],
   "source": [
    "# 1. Setup de entorno\n",
    "import os\n",
    "from datetime import datetime\n",
    "import pandas as pd\n",
    "import numpy as np\n",
    "\n",
    "def git_auto_push(mensaje=\"📌 Auto-push de avance\"):\n",
    "    fecha = datetime.now().strftime(\"%Y-%m-%d %H:%M:%S\")\n",
    "    msg = f\"{mensaje} ({fecha})\"\n",
    "    os.system(\"git add .\")\n",
    "    os.system(f'git commit -m \"{msg}\"')\n",
    "    os.system(\"git push origin main\")\n",
    "\n",
    "# Crear carpeta de resultados\n",
    "resultados_dir = \"./resultados_topicos_v3\"\n",
    "os.makedirs(resultados_dir, exist_ok=True)\n",
    "\n",
    "print(\"✅ Entorno listo\")\n",
    "git_auto_push(\"⚙️ Entorno y estructura creada\")\n"
   ]
  },
  {
   "cell_type": "code",
   "execution_count": null,
   "id": "cafe4b6c",
   "metadata": {},
   "outputs": [],
   "source": []
  }
 ],
 "metadata": {
  "kernelspec": {
   "display_name": "Python 3 (ipykernel)",
   "language": "python",
   "name": "python3"
  },
  "language_info": {
   "codemirror_mode": {
    "name": "ipython",
    "version": 3
   },
   "file_extension": ".py",
   "mimetype": "text/x-python",
   "name": "python",
   "nbconvert_exporter": "python",
   "pygments_lexer": "ipython3",
   "version": "3.11.7"
  }
 },
 "nbformat": 4,
 "nbformat_minor": 5
}
